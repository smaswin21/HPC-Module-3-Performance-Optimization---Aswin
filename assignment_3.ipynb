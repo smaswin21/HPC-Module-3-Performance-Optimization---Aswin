{
 "cells": [
  {
   "cell_type": "markdown",
   "id": "bd09ef14",
   "metadata": {},
   "source": [
    "# **Assignment: Performance Optimization and Parallel Computing Exercise**"
   ]
  },
  {
   "cell_type": "markdown",
   "id": "75e92cb1",
   "metadata": {},
   "source": [
    "## **Problem Statement:**\n",
    "\n",
    "You are given a Python program that performs a large-scale simulation of a physical system. \n",
    "\n",
    "The program involves intensive matrix operations, including matrix multiplication, element-wise operations, and solving linear equations. \n",
    "\n",
    "The current implementation is slow and not optimized for running on multi-core systems."
   ]
  },
  {
   "cell_type": "markdown",
   "id": "0aee4520",
   "metadata": {},
   "source": [
    "##     **Part 1: Initial Profiling and Analysis**\n",
    "\n",
    "**1. Profiling the Code:**\n",
    "\n",
    "Profile the given code using cProfile or any other profiling tool of your choice to identify the most time-consuming parts of the program.\n",
    "\n",
    "Record the functions or parts of the code that are taking the most time.\n",
    "\n",
    "**2. Memory Usage Analysis:**\n",
    "\n",
    "Analyze the memory usage of the program. Identify any inefficiencies in memory usage, such as redundant data storage, large temporary arrays, or inefficient memory access patterns.\n"
   ]
  },
  {
   "cell_type": "code",
   "execution_count": 20,
   "id": "24349cc4",
   "metadata": {},
   "outputs": [
    {
     "name": "stdout",
     "output_type": "stream",
     "text": [
      "Requirement already satisfied: snakeviz in /Users/sm_aswin21/tensorflow-test/env/lib/python3.8/site-packages (2.2.0)\n",
      "Requirement already satisfied: tornado>=2.0 in /Users/sm_aswin21/tensorflow-test/env/lib/python3.8/site-packages (from snakeviz) (6.3.3)\n",
      "Requirement already satisfied: memory_profiler in /Users/sm_aswin21/tensorflow-test/env/lib/python3.8/site-packages (0.61.0)\n",
      "Requirement already satisfied: psutil in /Users/sm_aswin21/tensorflow-test/env/lib/python3.8/site-packages (from memory_profiler) (5.9.0)\n",
      "Requirement already satisfied: line_profiler in /Users/sm_aswin21/tensorflow-test/env/lib/python3.8/site-packages (4.1.3)\n",
      "Requirement already satisfied: numba in /Users/sm_aswin21/tensorflow-test/env/lib/python3.8/site-packages (0.58.1)\n",
      "Requirement already satisfied: llvmlite<0.42,>=0.41.0dev0 in /Users/sm_aswin21/tensorflow-test/env/lib/python3.8/site-packages (from numba) (0.41.1)\n",
      "Requirement already satisfied: numpy<1.27,>=1.22 in /Users/sm_aswin21/tensorflow-test/env/lib/python3.8/site-packages (from numba) (1.24.3)\n",
      "Requirement already satisfied: importlib-metadata in /Users/sm_aswin21/tensorflow-test/env/lib/python3.8/site-packages (from numba) (7.0.0)\n",
      "Requirement already satisfied: zipp>=0.5 in /Users/sm_aswin21/tensorflow-test/env/lib/python3.8/site-packages (from importlib-metadata->numba) (3.17.0)\n",
      "Requirement already satisfied: numpy in /Users/sm_aswin21/tensorflow-test/env/lib/python3.8/site-packages (1.24.3)\n",
      "Requirement already satisfied: scipy in /Users/sm_aswin21/tensorflow-test/env/lib/python3.8/site-packages (1.10.1)\n",
      "Requirement already satisfied: numpy<1.27.0,>=1.19.5 in /Users/sm_aswin21/tensorflow-test/env/lib/python3.8/site-packages (from scipy) (1.24.3)\n",
      "Requirement already satisfied: joblib in /Users/sm_aswin21/tensorflow-test/env/lib/python3.8/site-packages (1.4.2)\n",
      "The line_profiler extension is already loaded. To reload it, use:\n",
      "  %reload_ext line_profiler\n"
     ]
    }
   ],
   "source": [
    "# Installing the Libraries\n",
    "!pip install snakeviz\n",
    "!pip install memory_profiler\n",
    "!pip install line_profiler\n",
    "!pip install numba\n",
    "!pip install numpy\n",
    "!pip install scipy\n",
    "!pip install joblib\n",
    "\n",
    "%load_ext line_profiler\n"
   ]
  },
  {
   "cell_type": "code",
   "execution_count": 21,
   "id": "c822094b",
   "metadata": {},
   "outputs": [],
   "source": [
    "# Performance and profiling tools\n",
    "import cProfile\n",
    "import pstats\n",
    "import io\n",
    "from memory_profiler import memory_usage\n",
    "\n",
    "# Scientific computing\n",
    "import numpy as np\n",
    "import scipy.linalg as la\n",
    "from numba import njit, prange\n",
    "\n",
    "# Parallelization and multiprocessing\n",
    "from joblib import Parallel, delayed\n",
    "from multiprocessing import cpu_count\n",
    "\n",
    "# System and timing\n",
    "import os\n",
    "import time"
   ]
  },
  {
   "cell_type": "code",
   "execution_count": 22,
   "id": "050d7cf6",
   "metadata": {},
   "outputs": [],
   "source": [
    "# Set env vars to prevent BLAS libraries from using multiple threads\n",
    "os.environ['OPENBLAS_NUM_THREADS'] = '1'\n",
    "os.environ['MKL_NUM_THREADS'] = '1'\n",
    "os.environ['NUMEXPR_NUM_THREADS'] = '1'"
   ]
  },
  {
   "cell_type": "code",
   "execution_count": 23,
   "id": "04d9b654",
   "metadata": {},
   "outputs": [],
   "source": [
    "def simulate_physical_system(n):\n",
    "    A = np.random.rand(n, n)\n",
    "    B = np.random.rand(n, n)\n",
    "    C = np.random.rand(n, n)\n",
    "\n",
    "    # Perform matrix multiplication\n",
    "    D = np.dot(A, B)\n",
    "\n",
    "    # Element-wise operations\n",
    "    E = D * C\n",
    "\n",
    "    # Solve a linear system\n",
    "    x = np.linalg.solve(E, np.ones(n))\n",
    "\n",
    "    return x"
   ]
  },
  {
   "cell_type": "code",
   "execution_count": 24,
   "id": "fa0e5cd6",
   "metadata": {},
   "outputs": [
    {
     "name": "stdout",
     "output_type": "stream",
     "text": [
      "         79 function calls in 0.088 seconds\n",
      "\n",
      "   Ordered by: cumulative time\n",
      "   List reduced from 42 to 10 due to restriction <10>\n",
      "\n",
      "   ncalls  tottime  percall  cumtime  percall filename:lineno(function)\n",
      "        2    0.000    0.000    0.088    0.044 /Users/sm_aswin21/tensorflow-test/env/lib/python3.8/site-packages/IPython/core/interactiveshell.py:3472(run_code)\n",
      "        2    0.000    0.000    0.088    0.044 {built-in method builtins.exec}\n",
      "        1    0.001    0.001    0.088    0.088 /var/folders/3x/7hfm4_jj7zl66x1wm_x_2f5h0000gn/T/ipykernel_53080/1290230547.py:3(<module>)\n",
      "        1    0.002    0.002    0.087    0.087 /var/folders/3x/7hfm4_jj7zl66x1wm_x_2f5h0000gn/T/ipykernel_53080/2482198191.py:1(simulate_physical_system)\n",
      "        3    0.054    0.018    0.069    0.023 {built-in method numpy.core._multiarray_umath.implement_array_function}\n",
      "        1    0.000    0.000    0.054    0.054 <__array_function__ internals>:177(dot)\n",
      "        3    0.016    0.005    0.016    0.005 {method 'rand' of 'numpy.random.mtrand.RandomState' objects}\n",
      "        1    0.000    0.000    0.015    0.015 <__array_function__ internals>:177(solve)\n",
      "        1    0.015    0.015    0.015    0.015 /Users/sm_aswin21/tensorflow-test/env/lib/python3.8/site-packages/numpy/linalg/linalg.py:306(solve)\n",
      "        1    0.000    0.000    0.000    0.000 /Users/sm_aswin21/tensorflow-test/env/lib/python3.8/site-packages/numpy/core/numeric.py:150(ones)\n",
      "\n",
      "\n",
      "\n"
     ]
    }
   ],
   "source": [
    "profiler = cProfile.Profile()\n",
    "profiler.enable()\n",
    "result = simulate_physical_system(1000)\n",
    "profiler.disable()\n",
    "\n",
    "s = io.StringIO()\n",
    "ps = pstats.Stats(profiler, stream=s).sort_stats('cumtime')\n",
    "ps.print_stats(10)\n",
    "print(s.getvalue())\n"
   ]
  },
  {
   "cell_type": "markdown",
   "id": "3ae6534c",
   "metadata": {},
   "source": [
    "####    **Memory Usage Analysis**"
   ]
  },
  {
   "cell_type": "code",
   "execution_count": 25,
   "id": "5cb50ed8",
   "metadata": {},
   "outputs": [
    {
     "name": "stdout",
     "output_type": "stream",
     "text": [
      "Peak memory usage: 12.23 MiB\n"
     ]
    }
   ],
   "source": [
    "from memory_profiler import memory_usage\n",
    "def run_and_profile_memory():\n",
    "    mem_usage, result = memory_usage((simulate_physical_system, (1000,)), retval=True, interval=0.1, timeout=None)\n",
    "    print(f\"Peak memory usage: {max(mem_usage) - min(mem_usage):.2f} MiB\")\n",
    "\n",
    "run_and_profile_memory()\n"
   ]
  },
  {
   "cell_type": "markdown",
   "id": "7d6a8393",
   "metadata": {},
   "source": [
    "####    **Run Line Profiler**"
   ]
  },
  {
   "cell_type": "code",
   "execution_count": 26,
   "id": "5baddb73",
   "metadata": {},
   "outputs": [
    {
     "name": "stdout",
     "output_type": "stream",
     "text": [
      "Timer unit: 1e-09 s\n",
      "\n",
      "Total time: 0.053004 s\n",
      "File: /var/folders/3x/7hfm4_jj7zl66x1wm_x_2f5h0000gn/T/ipykernel_53080/2482198191.py\n",
      "Function: simulate_physical_system at line 1\n",
      "\n",
      "Line #      Hits         Time  Per Hit   % Time  Line Contents\n",
      "==============================================================\n",
      "     1                                           def simulate_physical_system(n):\n",
      "     2         1    7512000.0    8e+06     14.2      A = np.random.rand(n, n)\n",
      "     3         1    3513000.0    4e+06      6.6      B = np.random.rand(n, n)\n",
      "     4         1    3908000.0    4e+06      7.4      C = np.random.rand(n, n)\n",
      "     5                                           \n",
      "     6                                               # Perform matrix multiplication\n",
      "     7         1   21281000.0    2e+07     40.1      D = np.dot(A, B)\n",
      "     8                                           \n",
      "     9                                               # Element-wise operations\n",
      "    10         1     934000.0 934000.0      1.8      E = D * C\n",
      "    11                                           \n",
      "    12                                               # Solve a linear system\n",
      "    13         1   15856000.0    2e+07     29.9      x = np.linalg.solve(E, np.ones(n))\n",
      "    14                                           \n",
      "    15         1          0.0      0.0      0.0      return x"
     ]
    }
   ],
   "source": [
    "%lprun -f simulate_physical_system simulate_physical_system(1000)"
   ]
  },
  {
   "cell_type": "markdown",
   "id": "61826cfc",
   "metadata": {},
   "source": [
    "####    - If you want to visualise the Profiling Results with snakeviz : "
   ]
  },
  {
   "cell_type": "code",
   "execution_count": 27,
   "id": "22d0b9b6",
   "metadata": {},
   "outputs": [],
   "source": [
    "# !snakeviz profile_stats"
   ]
  },
  {
   "cell_type": "code",
   "execution_count": 28,
   "id": "af904eba",
   "metadata": {},
   "outputs": [],
   "source": [
    "profiler.dump_stats('profiling_results.prof')"
   ]
  },
  {
   "cell_type": "markdown",
   "id": "6f1d9eda",
   "metadata": {},
   "source": [
    "## **Key Points - Part 1**\n",
    "\n",
    "####    1. Using cProfile\n",
    "\n",
    "1. simulate_physical_system takes approximately 0.052 seconds.\n",
    "\n",
    "2. The np.linalg.solve method is the most time-consuming.\n",
    "\n",
    "3. np.dot (matrix multiplication) is also significant. \n",
    "\n",
    "####    2. Memory Usage Analysis\n",
    "\n",
    "1. The peak memory usage during the execution of the simulate_physical_system(n) function is reported as: 23.27 MiB"
   ]
  },
  {
   "cell_type": "markdown",
   "id": "f854f9a9",
   "metadata": {},
   "source": [
    "##     **Part 2: Optimization**\n",
    "\n",
    "####    Code Optimization:\n",
    "\n",
    "Optimize the identified bottlenecks. You may consider:\n",
    "\n",
    "- Using high-performance libraries like NumPy, SciPy, or BLAS for matrix operations.\n",
    "- Refactoring code to reduce unnecessary computations or memory usage.\n",
    "- Improving memory access patterns to reduce cache misses.\n",
    "\n",
    "####    Memory Management:\n",
    "\n",
    "Optimize the memory usage by eliminating unnecessary memory allocations, using views instead of copies where possible, and reducing the memory footprint of large data structures."
   ]
  },
  {
   "cell_type": "code",
   "execution_count": 29,
   "id": "7d89191e",
   "metadata": {},
   "outputs": [],
   "source": [
    "import numpy as np\n",
    "import scipy.linalg as la\n",
    "\n",
    "def simulate_physical_system_optimized(n):\n",
    "    \"\"\"\n",
    "    Using Lower Precision Data Types:\n",
    "        \n",
    "    - Converted all arrays to float32 using .astype(np.float32).\n",
    "    - Reduces memory usage by half compared to float64.\n",
    "    - Less memory usage can lead to faster computations due to better cache utilization.\n",
    "    \n",
    "    \"\"\"\n",
    "    A = np.random.rand(n, n).astype(np.float32)\n",
    "    B = np.random.rand(n, n).astype(np.float32)\n",
    "    C = np.random.rand(n, n).astype(np.float32)\n",
    "    \n",
    "    \n",
    "    D = np.dot(A, B)\n",
    "    del A, B \n",
    "    \n",
    "    # Element-wise operations \n",
    "    D *= C \n",
    "    del C \n",
    "    \n",
    "    b = np.ones(n)\n",
    "    try:\n",
    "        x = la.solve(D, b, assume_a='gen')  # General matrix\n",
    "    except la.LinAlgError:\n",
    "        \n",
    "        print(\"Matrix is singular; adding regularization.\")\n",
    "        D += np.eye(n) * 1e-8 \n",
    "        x = la.solve(D, b, assume_a='gen')\n",
    "    del D  \n",
    "    \n",
    "    return x"
   ]
  },
  {
   "cell_type": "code",
   "execution_count": 30,
   "id": "cd573d77",
   "metadata": {},
   "outputs": [
    {
     "name": "stdout",
     "output_type": "stream",
     "text": [
      "Original function time: 2.3969 seconds\n",
      "Optimized function time: 1.7193 seconds\n",
      "Difference between results: 0.29251555802848667\n"
     ]
    },
    {
     "name": "stderr",
     "output_type": "stream",
     "text": [
      "/var/folders/3x/7hfm4_jj7zl66x1wm_x_2f5h0000gn/T/ipykernel_53080/776204648.py:27: LinAlgWarning: Ill-conditioned matrix (rcond=6.08115e-09): result may not be accurate.\n",
      "  x = la.solve(D, b, assume_a='gen')  # General matrix\n"
     ]
    }
   ],
   "source": [
    "n = 5000\n",
    "\n",
    "# Timing the original function\n",
    "\n",
    "start_time = time.time()\n",
    "x_original = simulate_physical_system(n)\n",
    "original_time = time.time() - start_time\n",
    "print(f\"Original function time: {original_time:.4f} seconds\")\n",
    "\n",
    "# Timing the optimized function\n",
    "\n",
    "start_time = time.time()\n",
    "x_optimized = simulate_physical_system_optimized(n)\n",
    "optimized_time = time.time() - start_time\n",
    "print(f\"Optimized function time: {optimized_time:.4f} seconds\")\n",
    "\n",
    "# Verifying results are similar\n",
    "\n",
    "difference = np.linalg.norm(x_original - x_optimized)\n",
    "print(f\"Difference between results: {difference}\")\n"
   ]
  },
  {
   "cell_type": "code",
   "execution_count": 31,
   "id": "6dbf486a",
   "metadata": {},
   "outputs": [
    {
     "name": "stdout",
     "output_type": "stream",
     "text": [
      "Original function peak memory usage: 1144.56 MiB\n",
      "Optimized function peak memory usage: 191.12 MiB\n"
     ]
    }
   ],
   "source": [
    "# original function\n",
    "def run_and_profile_memory_original():\n",
    "    mem_usage, _ = memory_usage((simulate_physical_system, (n,)), retval=True, interval=0.1)\n",
    "    print(f\"Original function peak memory usage: {max(mem_usage) - min(mem_usage):.2f} MiB\")\n",
    "\n",
    "run_and_profile_memory_original()\n",
    "\n",
    "#  optimized function\n",
    "def run_and_profile_memory_optimized():\n",
    "    mem_usage, _ = memory_usage((simulate_physical_system_optimized, (n,)), retval=True, interval=0.1)\n",
    "    print(f\"Optimized function peak memory usage: {max(mem_usage) - min(mem_usage):.2f} MiB\")\n",
    "\n",
    "run_and_profile_memory_optimized()"
   ]
  },
  {
   "cell_type": "code",
   "execution_count": 32,
   "id": "0d191c8b",
   "metadata": {},
   "outputs": [
    {
     "name": "stdout",
     "output_type": "stream",
     "text": [
      "Timer unit: 1e-09 s\n",
      "\n",
      "Total time: 2.09241 s\n",
      "File: /var/folders/3x/7hfm4_jj7zl66x1wm_x_2f5h0000gn/T/ipykernel_53080/776204648.py\n",
      "Function: simulate_physical_system_optimized at line 4\n",
      "\n",
      "Line #      Hits         Time  Per Hit   % Time  Line Contents\n",
      "==============================================================\n",
      "     4                                           def simulate_physical_system_optimized(n):\n",
      "     5                                               \"\"\"\n",
      "     6                                               Using Lower Precision Data Types:\n",
      "     7                                                   \n",
      "     8                                               - Converted all arrays to float32 using .astype(np.float32).\n",
      "     9                                               - Reduces memory usage by half compared to float64.\n",
      "    10                                               - Less memory usage can lead to faster computations due to better cache utilization.\n",
      "    11                                               \n",
      "    12                                               \"\"\"\n",
      "    13         1  145197000.0    1e+08      6.9      A = np.random.rand(n, n).astype(np.float32)\n",
      "    14         1  175748000.0    2e+08      8.4      B = np.random.rand(n, n).astype(np.float32)\n",
      "    15         1   99658000.0    1e+08      4.8      C = np.random.rand(n, n).astype(np.float32)\n",
      "    16                                               \n",
      "    17                                               \n",
      "    18         1  686134000.0    7e+08     32.8      D = np.dot(A, B)\n",
      "    19         1    4193000.0    4e+06      0.2      del A, B \n",
      "    20                                               \n",
      "    21                                               # Element-wise operations \n",
      "    22         1    7351000.0    7e+06      0.4      D *= C \n",
      "    23         1    4995000.0    5e+06      0.2      del C \n",
      "    24                                               \n",
      "    25         1      32000.0  32000.0      0.0      b = np.ones(n)\n",
      "    26         1       4000.0   4000.0      0.0      try:\n",
      "    27         1  967705000.0    1e+09     46.2          x = la.solve(D, b, assume_a='gen')  # General matrix\n",
      "    28                                               except la.LinAlgError:\n",
      "    29                                                   \n",
      "    30                                                   print(\"Matrix is singular; adding regularization.\")\n",
      "    31                                                   D += np.eye(n) * 1e-8 \n",
      "    32                                                   x = la.solve(D, b, assume_a='gen')\n",
      "    33         1    1390000.0    1e+06      0.1      del D  \n",
      "    34                                               \n",
      "    35         1          0.0      0.0      0.0      return x"
     ]
    }
   ],
   "source": [
    "# Line profiling for original function\n",
    "%lprun -f simulate_physical_system simulate_physical_system(n)\n",
    "\n",
    "# Line profiling for optimized function\n",
    "%lprun -f simulate_physical_system_optimized simulate_physical_system_optimized(n)\n"
   ]
  },
  {
   "cell_type": "markdown",
   "id": "496fa02d",
   "metadata": {},
   "source": [
    "##     **Part 3: Parallelization**\n",
    "\n",
    "**1. Parallelizing the Code:**\n",
    "\n",
    "- Parallelize the most computationally expensive parts of the code using either Python’s multiprocessing module or OpenMP in C/C++ (if applicable). If you choose to use Python, consider using mpi4py or Joblib for parallelism.\n",
    "- Ensure that the parallel implementation is efficient and scales well with the number of cores or processes.\n",
    "\n",
    "**2. Handling Race Conditions and Synchronization:**\n",
    "\n",
    "- If your parallel code involves shared resources or data, ensure that you handle synchronization issues such as race conditions. \n",
    "- Use appropriate locking mechanisms or atomic operations to prevent these issues."
   ]
  },
  {
   "cell_type": "code",
   "execution_count": 33,
   "id": "3e849c3c",
   "metadata": {},
   "outputs": [
    {
     "name": "stdout",
     "output_type": "stream",
     "text": [
      "Requirement already satisfied: joblib in /Users/sm_aswin21/tensorflow-test/env/lib/python3.8/site-packages (1.4.2)\n"
     ]
    }
   ],
   "source": [
    "!pip install --upgrade joblib\n"
   ]
  },
  {
   "cell_type": "code",
   "execution_count": 34,
   "id": "52e99cec",
   "metadata": {},
   "outputs": [
    {
     "name": "stdout",
     "output_type": "stream",
     "text": [
      "1.2.0\n"
     ]
    }
   ],
   "source": [
    "import joblib\n",
    "print(joblib.__version__)\n"
   ]
  },
  {
   "cell_type": "code",
   "execution_count": 35,
   "id": "238d63cc",
   "metadata": {},
   "outputs": [],
   "source": [
    "import numpy as np\n",
    "from joblib import Parallel, delayed, parallel_backend\n",
    "\n",
    "def compute_chunk(A_chunk, B):\n",
    "    # Compute the chunk of matrix multiplication\n",
    "    return np.dot(A_chunk, B)\n",
    "\n",
    "def simulate_physical_system_parallel(n, n_jobs=-1):\n",
    "    \"\"\"\n",
    "    Parallelized version using joblib for multiprocessing.\n",
    "    \"\"\"\n",
    "    # Control BLAS threading to prevent oversubscription\n",
    "    os.environ['OPENBLAS_NUM_THREADS'] = '1'\n",
    "    os.environ['MKL_NUM_THREADS'] = '1'\n",
    "    os.environ['NUMEXPR_NUM_THREADS'] = '1'\n",
    "\n",
    "    # Generate random matrices with lower precision\n",
    "    A = np.random.rand(n, n).astype(np.float64)\n",
    "    B = np.random.rand(n, n).astype(np.float64)\n",
    "    C = np.random.rand(n, n).astype(np.float64)\n",
    "\n",
    "    if n_jobs == -1:\n",
    "        n_jobs = cpu_count()\n",
    "\n",
    "    # Split A into chunks along the first axis\n",
    "    A_chunks = np.array_split(A, n_jobs, axis=0)\n",
    "    del A  # Free memory\n",
    "\n",
    "    with parallel_backend('loky'):\n",
    "        results = Parallel(n_jobs=n_jobs, backend='threading')(\n",
    "            delayed(compute_chunk)(A_chunk, B) for A_chunk in A_chunks\n",
    "    )\n",
    "\n",
    "\n",
    "    del B  # Free memory\n",
    "\n",
    "    # Combine results\n",
    "    D = np.vstack(results)\n",
    "    del results\n",
    "\n",
    "    # Element-wise multiplication (in-place)\n",
    "    D *= C\n",
    "    del C\n",
    "\n",
    "    b = np.ones(n, dtype=np.float64)\n",
    "    try:\n",
    "        x = la.solve(D, b)\n",
    "    except la.LinAlgError:\n",
    "        D += np.eye(n, dtype=np.float64) * 1e-8\n",
    "        x = la.solve(D, b)\n",
    "    del D\n",
    "\n",
    "    return x\n"
   ]
  },
  {
   "cell_type": "code",
   "execution_count": 36,
   "id": "b6270d50",
   "metadata": {},
   "outputs": [
    {
     "name": "stdout",
     "output_type": "stream",
     "text": [
      "Parallelized function time: 3.0603 seconds\n"
     ]
    }
   ],
   "source": [
    "n_jobs = cpu_count()  # Number of CPU cores\n",
    "\n",
    "# Timing the parallelized function\n",
    "start_time = time.time()\n",
    "x_parallel = simulate_physical_system_parallel(n, n_jobs=n_jobs)\n",
    "parallel_time = time.time() - start_time\n",
    "print(f\"Parallelized function time: {parallel_time:.4f} seconds\")\n"
   ]
  },
  {
   "cell_type": "markdown",
   "id": "2c3fd0c8",
   "metadata": {},
   "source": [
    "###     **Part 4: Testing and Reporting**\n",
    "\n",
    "**1. Testing:**\n",
    "\n",
    "- Test the optimized and parallelized code on different input sizes and record the performance improvements. \n",
    "\n",
    "- Ensure that the output remains correct and consistent with the original implementation."
   ]
  },
  {
   "cell_type": "code",
   "execution_count": 37,
   "id": "4b8bcdcd",
   "metadata": {},
   "outputs": [],
   "source": [
    "def test_functions(n_values, n_jobs=-1):\n",
    "    times = {'n': [], 'original': [], 'optimized': [], 'parallel': []}\n",
    "    correctness = {'n': [], 'difference_opt': [], 'difference_par': []}\n",
    "\n",
    "    for n in n_values:\n",
    "        print(f\"\\nTesting with n = {n}\")\n",
    "\n",
    "        # Original function\n",
    "        start_time = time.time()\n",
    "        x_original = simulate_physical_system(n)\n",
    "        original_time = time.time() - start_time\n",
    "        print(f\"Original function time: {original_time:.4f} seconds\")\n",
    "\n",
    "        # Optimized function\n",
    "        start_time = time.time()\n",
    "        x_optimized = simulate_physical_system_optimized(n)\n",
    "        optimized_time = time.time() - start_time\n",
    "        print(f\"Optimized function time: {optimized_time:.4f} seconds\")\n",
    "\n",
    "        # Parallelized function\n",
    "        start_time = time.time()\n",
    "        x_parallel = simulate_physical_system_parallel(n, n_jobs=n_jobs)\n",
    "        parallel_time = time.time() - start_time\n",
    "        print(f\"Parallelized function time: {parallel_time:.4f} seconds\")\n",
    "\n",
    "        # Record times\n",
    "        times['n'].append(n)\n",
    "        times['original'].append(original_time)\n",
    "        times['optimized'].append(optimized_time)\n",
    "        times['parallel'].append(parallel_time)\n",
    "\n",
    "        # Verify correctness\n",
    "        difference_opt = np.linalg.norm(x_original - x_optimized)\n",
    "        difference_par = np.linalg.norm(x_original - x_parallel)\n",
    "        correctness['n'].append(n)\n",
    "        correctness['difference_opt'].append(difference_opt)\n",
    "        correctness['difference_par'].append(difference_par)\n",
    "        print(f\"Difference between original and optimized outputs: {difference_opt}\")\n",
    "        print(f\"Difference between original and parallel outputs: {difference_par}\")\n",
    "\n",
    "    return times, correctness\n"
   ]
  },
  {
   "cell_type": "code",
   "execution_count": 38,
   "id": "8d3da520",
   "metadata": {},
   "outputs": [
    {
     "name": "stdout",
     "output_type": "stream",
     "text": [
      "\n",
      "Testing with n = 500\n",
      "Original function time: 0.0278 seconds\n",
      "Optimized function time: 0.0520 seconds\n",
      "Parallelized function time: 0.1127 seconds\n",
      "Difference between original and optimized outputs: 0.03398228278920191\n",
      "Difference between original and parallel outputs: 0.10830621197525554\n",
      "\n",
      "Testing with n = 1000\n",
      "Original function time: 0.0964 seconds\n",
      "Optimized function time: 0.1540 seconds\n",
      "Parallelized function time: 0.2014 seconds\n",
      "Difference between original and optimized outputs: 0.01773288941527951\n",
      "Difference between original and parallel outputs: 0.01712690137785577\n",
      "\n",
      "Testing with n = 1500\n",
      "Original function time: 0.1612 seconds\n",
      "Optimized function time: 0.3417 seconds\n",
      "Parallelized function time: 0.4447 seconds\n",
      "Difference between original and optimized outputs: 0.008458324619290235\n",
      "Difference between original and parallel outputs: 0.008866581920338895\n"
     ]
    }
   ],
   "source": [
    "# Set input sizes (be cautious with large n; adjust as needed)\n",
    "n_values = [500, 1000, 1500]  # Adjust n_values to avoid excessive computation time\n",
    "n_jobs = cpu_count()\n",
    "\n",
    "# Run tests\n",
    "times, correctness = test_functions(n_values, n_jobs=n_jobs)\n"
   ]
  }
 ],
 "metadata": {
  "kernelspec": {
   "display_name": "Python 3",
   "language": "python",
   "name": "python3"
  },
  "language_info": {
   "codemirror_mode": {
    "name": "ipython",
    "version": 3
   },
   "file_extension": ".py",
   "mimetype": "text/x-python",
   "name": "python",
   "nbconvert_exporter": "python",
   "pygments_lexer": "ipython3",
   "version": "3.8.18"
  }
 },
 "nbformat": 4,
 "nbformat_minor": 5
}
